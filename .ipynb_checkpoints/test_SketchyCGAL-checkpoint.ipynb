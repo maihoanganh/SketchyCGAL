{
 "cells": [
  {
   "cell_type": "code",
   "execution_count": 23,
   "metadata": {
    "scrolled": true
   },
   "outputs": [
    {
     "name": "stdout",
     "output_type": "stream",
     "text": [
      "size of weight matrix: 2000\n",
      "- SketchyCGAL SDP Solver - Beta.V.0.0\n",
      "--------------------------\n",
      " iter=1 \n",
      " stopObj=106469.02512468299 \n",
      " stopFeas=44.721359549995796 \n",
      " primalObj=-105054.81159988622 \n",
      "--------------------------\n",
      " iter=2 \n",
      " stopObj=2.8833037814839934e6 \n",
      " stopFeas=1827.9867233398136 \n",
      " primalObj=-94941.95088185991 \n",
      "--------------------------"
     ]
    },
    {
     "name": "stderr",
     "output_type": "stream",
     "text": [
      "WARNING: replacing module SpectralPOP.\n"
     ]
    },
    {
     "name": "stdout",
     "output_type": "stream",
     "text": [
      "\n",
      " iter=4 \n",
      " stopObj=1.6526572990920437e6 \n",
      " stopFeas=1223.6873583704305 \n",
      " primalObj=-66529.80121005104 \n",
      "--------------------------\n",
      " iter=8 \n",
      " stopObj=334038.31820481026 \n",
      " stopFeas=484.27043803892394 \n",
      " primalObj=-34894.61895233921 \n",
      "--------------------------\n",
      " iter=16 \n",
      " stopObj=41966.84263348187 \n",
      " stopFeas=111.91184638263681 \n",
      " primalObj=-13272.057931675165 \n",
      "--------------------------\n",
      " iter=32 \n",
      " stopObj=26661.65175388395 \n",
      " stopFeas=28.271231832213946 \n",
      " primalObj=-7571.366074983637 \n",
      "--------------------------\n",
      " iter=64 \n",
      " stopObj=25220.19682480941 \n",
      " stopFeas=10.807833017865152 \n",
      " primalObj=-6553.831729758971 \n",
      "--------------------------\n",
      " iter=128 \n",
      " stopObj=22925.95070710339 \n",
      " stopFeas=5.460297161838066 \n",
      " primalObj=-6557.685283814959 \n",
      "--------------------------\n",
      " iter=256 \n",
      " stopObj=20953.148856058204 \n",
      " stopFeas=4.440129984670989 \n",
      " primalObj=-6837.487966662588 \n",
      "--------------------------\n",
      " iter=512 \n",
      " stopObj=19049.998346031127 \n",
      " stopFeas=4.128334668769336 \n",
      " primalObj=-7156.255770154074 \n"
     ]
    },
    {
     "ename": "InterruptException",
     "evalue": "InterruptException:",
     "output_type": "error",
     "traceback": [
      "InterruptException:",
      "",
      "Stacktrace:",
      " [1] getindex at ./boot.jl:404 [inlined]",
      " [2] syevr!(::Char, ::Char, ::Char, ::Array{Float64,2}, ::Float64, ::Float64, ::Int64, ::Int64, ::Float64) at /buildworker/worker/package_linux64/build/usr/share/julia/stdlib/v1.3/LinearAlgebra/src/lapack.jl:5093",
      " [3] eigen at /buildworker/worker/package_linux64/build/usr/share/julia/stdlib/v1.3/LinearAlgebra/src/symmetric.jl:543 [inlined]",
      " [4] smallest_eig at /home/hoanganh/Desktop/math-topics/SpectralPOP/codes/SpectralPOP/SpectralPOP/Julia/SketchyCGAL/CGAL.jl:213 [inlined]",
      " [5] ApproxMinEvecLanczos(::Main.SpectralPOP.var\"#346#348\"{typeof(Primitive1),typeof(Primitive2)}, ::UInt32, ::UInt64) at /home/hoanganh/Desktop/math-topics/SpectralPOP/codes/SpectralPOP/SpectralPOP/Julia/SketchyCGAL/CGAL.jl:198",
      " [6] #CGAL#344(::Float64, ::typeof(Main.SpectralPOP.CGAL), ::UInt32, ::typeof(Primitive1), ::typeof(Primitive2), ::typeof(Primitive3), ::Array{Float32,1}, ::Array{Float64,1}, ::UInt16, ::UInt64) at /home/hoanganh/Desktop/math-topics/SpectralPOP/codes/SpectralPOP/SpectralPOP/Julia/SketchyCGAL/CGAL.jl:59",
      " [7] (::Main.SpectralPOP.var\"#kw##CGAL\")(::NamedTuple{(:STOPTOL,),Tuple{Float64}}, ::typeof(Main.SpectralPOP.CGAL), ::UInt32, ::Function, ::Function, ::Function, ::Array{Float32,1}, ::Array{Float64,1}, ::UInt16, ::UInt64) at ./none:0",
      " [8] top-level scope at util.jl:155",
      " [9] top-level scope at In[23]:51"
     ]
    }
   ],
   "source": [
    "\"\"\"\n",
    "Shor's relaxation for MAXCUT\n",
    "\n",
    "\"\"\"\n",
    "\n",
    "using MAT\n",
    "using LinearAlgebra\n",
    "using SparseArrays\n",
    "\n",
    "\n",
    "\n",
    "#call weight matrix from GSET\n",
    "file = matopen(\"./GSET/g1.mat\")\n",
    "Problem=read(file, \"A\")\n",
    "close(file)\n",
    "\n",
    "\n",
    "n = UInt32(size(Problem,1))\n",
    "C = sparse(diagm(Problem*ones(n))) - Problem\n",
    "C = (C+C').*0.5\n",
    "C = -C.*0.25\n",
    "\n",
    "\n",
    "println(\"size of weight matrix: \",n)\n",
    "\n",
    "\n",
    "\n",
    "Primitive1(x::Vector{Float64})= C*x\n",
    "Primitive2(y::Vector{Float64},x::Vector{Float64})= [@inbounds @fastmath y[i]*x[i] for i in 1:n]\n",
    "Primitive3(x::Vector{Float64})= x.^2\n",
    "\n",
    "a = Vector{Float32}([n;n])\n",
    "b = ones(Float64,n)\n",
    "\n",
    "R = UInt16(10) # rank/sketch size parameter\n",
    "maxit = UInt64(1e4) # limit on number of iterations\n",
    "\n",
    "\n",
    "include(\"./src/SketchyCGAL.jl\")\n",
    "using .SketchyCGAL\n",
    "\n",
    "@time obj, U, Delt = SketchyCGAL.CGAL(n,Primitive1,Primitive2,Primitive3, a, b, R, maxit;STOPTOL=1e-3);\n"
   ]
  },
  {
   "cell_type": "code",
   "execution_count": null,
   "metadata": {},
   "outputs": [],
   "source": []
  }
 ],
 "metadata": {
  "kernelspec": {
   "display_name": "Julia 1.3.0",
   "language": "julia",
   "name": "julia-1.3"
  },
  "language_info": {
   "file_extension": ".jl",
   "mimetype": "application/julia",
   "name": "julia",
   "version": "1.3.0"
  }
 },
 "nbformat": 4,
 "nbformat_minor": 2
}
